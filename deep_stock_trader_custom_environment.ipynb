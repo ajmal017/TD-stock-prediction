{
 "cells": [
  {
   "cell_type": "markdown",
   "metadata": {
    "id": "oLIE0lafVQyT"
   },
   "source": [
    "# Deep Stock Trader (Advanced) - START HERE\n",
    "*Built for TAMU Datathon 2020 by Seth Hamilton and Josiah Coad.*\n",
    "\n",
    "If you haven't, go ahead and download the zip containing this notebook and more from our [challenges website](https://tamudatathon.com/challenges).\n",
    "\n",
    "Includes usage examples. \n",
    "\n",
    "---\n",
    "\n",
    "## Introduction\n",
    "\n",
    "Predicting stock market performance is a centuries old problem. Ambitious investors have designed and redesigned thousands of trading algorithms, custom indexes, and more to gain an edge in market prediction. Some of the biggest banks in the world hire large numbers of ML experts specifically to improve their investing strategies. Some companies even specialize in this approach (see https://www.twosigma.com/).\n",
    "\n",
    "Reinforcement Learning opens the dooor to a whole new approach to predicting stock prices... in that we don't have to predict prices! Instead, we model trading stocks like a game and train an agent to maximize the reward function we care about: total money gained!\n",
    "\n",
    "---\n",
    "\n",
    "## Problem Description\n",
    "\n",
    "In this challenge, it's your job to train an agent to make a trading decision (buy, sell, hold) to execute at the opening of the following day. You're given an array of values (i.e. open, close, low, high, SMA_10, RSI_14, etc...). If you want, you can write logic to keep track of your current amount of cash and shares. Fractional shares are allowed. \n",
    "\n",
    "In other words. For every row/day in the historical dataset, you'll be given the array:\n",
    "\n",
    "> $[v1, v2, v3, ...]$.\n",
    "\n",
    "The array contains daily historical Your job is to return a tuple containing one of \n",
    "\n",
    "> $Action.BUY, Action.SELL, Action.HOLD$ \n",
    "\n",
    "and a value $frac$ where $frac$ represents the fraction of cash to spend or shares to sell in a trade \n",
    "\n",
    "> $0 \\leq frac \\leq 1$ \n",
    "\n",
    "Thus, your agent's step function should return something like\n",
    "\n",
    "> $(Action.BUY, 0.5)$\n",
    "\n",
    "which can be interpreted as the decision to invest half (0.5) your current amount of cash into the market. Again, you'll return an $(Action, frac)$ tuple for every row/day in the dataset. \n",
    "\n",
    "---\n",
    "\n",
    "## Submission Requirements/Details\n",
    "\n",
    "- Load train.csv into a pandas dataframe\n",
    "- Train a RL agent using our custom gym environment* \n",
    "- Save model to disk \n",
    "- Edit main.py to use model in step function (see sample main.py for details)\n",
    "- Zip main.py and your model together and submit on [tamudatathon.com/koth]\n",
    "- Note your score and try again!\n",
    "\n",
    "*Custom env provided in this notebook and in the util.py. Feel free to modify the env implementation (such as the reward func) to improve performance\n",
    "\n",
    "---\n",
    "\n",
    "## About This Notebook\n",
    "\n",
    "This notebook does several things\n",
    "- **Creates** a custom gym environment to make RL agent training easy\n",
    "- **Validates** and tests the custom gym environment\n",
    "- **Downloads** sample data (not the stock actually used for challenge) and cleans it for use \n",
    "- **Trains** a basic agent to play the trading game \n",
    "- **Tests** the agent to see how much money it makes!\n",
    "\n",
    "You can download this notebook and running it locally on the training dataset so you can train a model for your real submission. \n",
    "\n",
    "One last note, this custom gym environment only accepts a basic BUY, SELL, or HOLD action, not a tuple containing both an action and a fraction. You'll have to modify your final implementation to make use of the fraction feature. (Or don't and simply set fraction = 1). \n",
    "\n",
    "\n",
    "Good luck!"
   ]
  },
  {
   "cell_type": "markdown",
   "metadata": {
    "id": "2C72oyw5QvFd"
   },
   "source": [
    "## Custom Gym Environment"
   ]
  },
  {
   "cell_type": "code",
   "execution_count": 1,
   "metadata": {
    "id": "n41DJ5J4Z3Yl"
   },
   "outputs": [],
   "source": [
    "import numpy as np\n",
    "import gym\n",
    "from gym import spaces\n",
    "import pandas as pd"
   ]
  },
  {
   "cell_type": "code",
   "execution_count": 2,
   "metadata": {
    "id": "gvZKCS5bVKjy"
   },
   "outputs": [],
   "source": [
    "class DeepStockTraderEnv(gym.Env):\n",
    "  \"\"\"\n",
    "  Custom Environment that follows gym interface\n",
    "  This environment enables agents to make a decision at every timestep in\n",
    "  a historical stock environment.\n",
    "\n",
    "  The reward function is defined by how much money the bot made in a particular \n",
    "  timestep. (This is 0 in cases where no shares are held)\n",
    "  \"\"\"\n",
    "\n",
    "  metadata={ 'render.modes': ['console'] }\n",
    "\n",
    "  BUY = 0\n",
    "  SELL = 1\n",
    "  HOLD = 2\n",
    "\n",
    "  def __init__(self, pd_data):\n",
    "    super(DeepStockTraderEnv, self).__init__()\n",
    "\n",
    "    self.data = pd_data.values\n",
    "    self.columns_map = {c.lower(): i for i, c in enumerate(pd_data.columns)}\n",
    "\n",
    "    self.row_size = len(self.columns_map)\n",
    "\n",
    "    min_val = np.min(self.data)\n",
    "    low = np.array([min_val for i in range(self.row_size)])\n",
    "\n",
    "    max_val = np.max(self.data)\n",
    "    high = np.array([max_val for i in range(self.row_size)])\n",
    "\n",
    "    self.observation_space = spaces.Box(low=low, \n",
    "                                            high=high, \n",
    "                                            shape=(self.row_size,), \n",
    "                                            dtype=np.float64)\n",
    "\n",
    "    self.action_space = spaces.Discrete(3)\n",
    "\n",
    "    # Variables that track the bot's current state\n",
    "    self.n_shares = 0 # num of shares currently held\n",
    "    self.cash = 1000  # starting cash\n",
    "    self.timestep = 0 # cur index of row/timestep in dataset\n",
    "    self.n_buys = 0   # num of buys\n",
    "    self.n_sells = 0  # num of sells\n",
    "    self.n_holds = 0  # num of holds\n",
    "    self.account_vals = [] # list tracking the account performance over time\n",
    "\n",
    "  def reset(self):\n",
    "    self.n_shares = 0 \n",
    "    self.cash = 1000\n",
    "    self.timestep = 1 # + 1 since we return the first observation\n",
    "    self.n_buys = 0\n",
    "    self.n_sells = 0\n",
    "    self.n_holds = 0\n",
    "    self.account_vals = []\n",
    "\n",
    "    return np.copy(self.data[0])\n",
    "\n",
    "  def total(self, timestep=-1, open=True):\n",
    "    return self.cash + self.n_shares * self.data[timestep, self.columns_map[\"open\" if open else \"close\"]]\n",
    "\n",
    "  def step(self, action):\n",
    "\n",
    "    # ********************** EXECUTE ACTION **********************\n",
    "    open_j = self.columns_map[\"open\"]\n",
    "    close_j = self.columns_map[\"close\"]\n",
    "    if action == self.BUY:\n",
    "        self.n_shares += self.cash / self.data[self.timestep, open_j]\n",
    "        self.cash = 0\n",
    "        self.n_buys += 1\n",
    "    elif action == self.SELL:\n",
    "        self.cash += self.n_shares * self.data[self.timestep, open_j]\n",
    "        self.n_shares = 0\n",
    "        self.n_sells += 1\n",
    "    elif action == self.HOLD:\n",
    "        self.n_holds += 1\n",
    "    else:\n",
    "        raise ValueError(f\"Illegal Action value: {action}\")\n",
    "\n",
    "    self.account_vals.append(self.total(self.timestep))\n",
    "    # ************************************************************\n",
    "\n",
    "    # IMPORTANT \n",
    "    # We define reward to be (total account value at close) - (total account value at open)\n",
    "    # Basically your reward is the amount gained over the course of the day \n",
    "    reward = self.total(self.timestep, open=False) - self.total(self.timestep)\n",
    "    done = self.timestep+1 == len(self.data)-1\n",
    "    info = {\n",
    "        \"n_buys\": self.n_buys,\n",
    "        \"n_sells\": self.n_sells,\n",
    "        \"n_holds\": self.n_holds,\n",
    "        \"cash\": self.cash,\n",
    "        \"n_shares\": self.n_shares\n",
    "    }\n",
    "\n",
    "    self.timestep += 1\n",
    "\n",
    "    return np.copy(self.data[self.timestep]), reward, done, info\n",
    "\n",
    "  def render(self, mode='console'):\n",
    "    if mode != 'console':\n",
    "        raise NotImplementedError()\n",
    "    \n",
    "    print(f\"------------Step {self.timestep}------------\")\n",
    "    print(f'total:   \\t{self.total(self.timestep)}')\n",
    "    print(f'cash:    \\t{self.cash}')\n",
    "    print(f'n_shares:\\t{self.n_shares}')\n",
    "    print(f'n_buys:  \\t{self.n_buys}')\n",
    "    print(f'n_sells:\\t{self.n_sells}')\n",
    "    print(f'n_holds:\\t{self.n_holds}')"
   ]
  },
  {
   "cell_type": "markdown",
   "metadata": {
    "id": "R_woJwp4Q_XU"
   },
   "source": [
    "## Data Collection and Cleaning"
   ]
  },
  {
   "cell_type": "code",
   "execution_count": 4,
   "metadata": {
    "colab": {
     "base_uri": "https://localhost:8080/",
     "height": 526
    },
    "id": "F1kVKTe2MZP1",
    "outputId": "14e50a71-722b-402a-feaf-154f748d3cdd",
    "scrolled": true
   },
   "outputs": [
    {
     "name": "stdout",
     "output_type": "stream",
     "text": [
      "Collecting stable-baselines[mpi]==2.10.0\n",
      "  Downloading stable_baselines-2.10.0-py3-none-any.whl (248 kB)\n",
      "Requirement already satisfied: joblib in c:\\users\\asad5\\appdata\\local\\programs\\python\\python37\\lib\\site-packages (from stable-baselines[mpi]==2.10.0) (0.16.0)\n",
      "Requirement already satisfied: numpy in c:\\users\\asad5\\appdata\\local\\programs\\python\\python37\\lib\\site-packages (from stable-baselines[mpi]==2.10.0) (1.17.3)\n",
      "Requirement already satisfied: matplotlib in c:\\users\\asad5\\appdata\\local\\programs\\python\\python37\\lib\\site-packages (from stable-baselines[mpi]==2.10.0) (3.3.2)\n",
      "Requirement already satisfied: opencv-python in c:\\users\\asad5\\appdata\\local\\programs\\python\\python37\\lib\\site-packages (from stable-baselines[mpi]==2.10.0) (4.1.1.26)\n",
      "Requirement already satisfied: pandas in c:\\users\\asad5\\appdata\\local\\programs\\python\\python37\\lib\\site-packages (from stable-baselines[mpi]==2.10.0) (1.1.2)\n",
      "Requirement already satisfied: gym[atari,classic_control]>=0.11 in c:\\users\\asad5\\appdata\\local\\programs\\python\\python37\\lib\\site-packages (from stable-baselines[mpi]==2.10.0) (0.17.3)\n",
      "Requirement already satisfied: cloudpickle>=0.5.5 in c:\\users\\asad5\\appdata\\local\\programs\\python\\python37\\lib\\site-packages (from stable-baselines[mpi]==2.10.0) (1.6.0)\n",
      "Requirement already satisfied: scipy in c:\\users\\asad5\\appdata\\local\\programs\\python\\python37\\lib\\site-packages (from stable-baselines[mpi]==2.10.0) (1.4.1)\n",
      "Collecting mpi4py; extra == \"mpi\"\n",
      "  Downloading mpi4py-3.0.3-cp37-cp37m-win_amd64.whl (477 kB)\n",
      "Requirement already satisfied: kiwisolver>=1.0.1 in c:\\users\\asad5\\appdata\\local\\programs\\python\\python37\\lib\\site-packages (from matplotlib->stable-baselines[mpi]==2.10.0) (1.2.0)\n",
      "Requirement already satisfied: pyparsing!=2.0.4,!=2.1.2,!=2.1.6,>=2.0.3 in c:\\users\\asad5\\appdata\\local\\programs\\python\\python37\\lib\\site-packages (from matplotlib->stable-baselines[mpi]==2.10.0) (2.4.7)\n",
      "Requirement already satisfied: cycler>=0.10 in c:\\users\\asad5\\appdata\\local\\programs\\python\\python37\\lib\\site-packages (from matplotlib->stable-baselines[mpi]==2.10.0) (0.10.0)\n",
      "Requirement already satisfied: pillow>=6.2.0 in c:\\users\\asad5\\appdata\\local\\programs\\python\\python37\\lib\\site-packages (from matplotlib->stable-baselines[mpi]==2.10.0) (7.2.0)\n",
      "Requirement already satisfied: python-dateutil>=2.1 in c:\\users\\asad5\\appdata\\local\\programs\\python\\python37\\lib\\site-packages (from matplotlib->stable-baselines[mpi]==2.10.0) (2.8.1)\n",
      "Requirement already satisfied: certifi>=2020.06.20 in c:\\users\\asad5\\appdata\\local\\programs\\python\\python37\\lib\\site-packages (from matplotlib->stable-baselines[mpi]==2.10.0) (2020.6.20)\n",
      "Requirement already satisfied: pytz>=2017.2 in c:\\users\\asad5\\appdata\\local\\programs\\python\\python37\\lib\\site-packages (from pandas->stable-baselines[mpi]==2.10.0) (2020.1)\n",
      "Requirement already satisfied: pyglet<=1.5.0,>=1.4.0 in c:\\users\\asad5\\appdata\\local\\programs\\python\\python37\\lib\\site-packages (from gym[atari,classic_control]>=0.11->stable-baselines[mpi]==2.10.0) (1.5.0)\n",
      "Collecting atari-py~=0.2.0; extra == \"atari\"\n",
      "  Downloading atari_py-0.2.6-cp37-cp37m-win_amd64.whl (1.8 MB)\n",
      "Requirement already satisfied: six in c:\\users\\asad5\\appdata\\roaming\\python\\python37\\site-packages (from cycler>=0.10->matplotlib->stable-baselines[mpi]==2.10.0) (1.13.0)\n",
      "Requirement already satisfied: future in c:\\users\\asad5\\appdata\\local\\programs\\python\\python37\\lib\\site-packages (from pyglet<=1.5.0,>=1.4.0->gym[atari,classic_control]>=0.11->stable-baselines[mpi]==2.10.0) (0.18.2)\n",
      "Installing collected packages: mpi4py, stable-baselines, atari-py\n",
      "Successfully installed atari-py-0.2.6 mpi4py-3.0.3 stable-baselines-2.10.0\n",
      "Collecting yfinance\n",
      "  Downloading yfinance-0.1.55.tar.gz (23 kB)\n",
      "Requirement already satisfied: pandas>=0.24 in c:\\users\\asad5\\appdata\\local\\programs\\python\\python37\\lib\\site-packages (from yfinance) (1.1.2)\n",
      "Requirement already satisfied: numpy>=1.15 in c:\\users\\asad5\\appdata\\local\\programs\\python\\python37\\lib\\site-packages (from yfinance) (1.17.3)\n",
      "Requirement already satisfied: requests>=2.20 in c:\\users\\asad5\\appdata\\local\\programs\\python\\python37\\lib\\site-packages (from yfinance) (2.24.0)\n",
      "Collecting multitasking>=0.0.7\n",
      "  Downloading multitasking-0.0.9.tar.gz (8.1 kB)\n",
      "Collecting lxml>=4.5.1\n",
      "  Downloading lxml-4.6.0-cp37-cp37m-win_amd64.whl (3.5 MB)\n",
      "Requirement already satisfied: python-dateutil>=2.7.3 in c:\\users\\asad5\\appdata\\local\\programs\\python\\python37\\lib\\site-packages (from pandas>=0.24->yfinance) (2.8.1)\n",
      "Requirement already satisfied: pytz>=2017.2 in c:\\users\\asad5\\appdata\\local\\programs\\python\\python37\\lib\\site-packages (from pandas>=0.24->yfinance) (2020.1)\n",
      "Requirement already satisfied: chardet<4,>=3.0.2 in c:\\users\\asad5\\appdata\\local\\programs\\python\\python37\\lib\\site-packages (from requests>=2.20->yfinance) (3.0.4)\n",
      "Requirement already satisfied: urllib3!=1.25.0,!=1.25.1,<1.26,>=1.21.1 in c:\\users\\asad5\\appdata\\local\\programs\\python\\python37\\lib\\site-packages (from requests>=2.20->yfinance) (1.25.10)\n",
      "Requirement already satisfied: idna<3,>=2.5 in c:\\users\\asad5\\appdata\\local\\programs\\python\\python37\\lib\\site-packages (from requests>=2.20->yfinance) (2.10)\n",
      "Requirement already satisfied: certifi>=2017.4.17 in c:\\users\\asad5\\appdata\\local\\programs\\python\\python37\\lib\\site-packages (from requests>=2.20->yfinance) (2020.6.20)\n",
      "Requirement already satisfied: six>=1.5 in c:\\users\\asad5\\appdata\\roaming\\python\\python37\\site-packages (from python-dateutil>=2.7.3->pandas>=0.24->yfinance) (1.13.0)\n",
      "Building wheels for collected packages: yfinance, multitasking\n",
      "  Building wheel for yfinance (setup.py): started\n",
      "  Building wheel for yfinance (setup.py): finished with status 'done'\n",
      "  Created wheel for yfinance: filename=yfinance-0.1.55-py2.py3-none-any.whl size=22622 sha256=16196173db2d6a19cf22e2ae3afa99e286ef592d056fb98c33c69beb145ce9d7\n",
      "  Stored in directory: c:\\users\\asad5\\appdata\\local\\pip\\cache\\wheels\\aa\\8a\\36\\59ed4f6fbcb6100967618eeb0696046bf9777a41ac2ff1f9b9\n",
      "  Building wheel for multitasking (setup.py): started\n",
      "  Building wheel for multitasking (setup.py): finished with status 'done'\n",
      "  Created wheel for multitasking: filename=multitasking-0.0.9-py3-none-any.whl size=8372 sha256=14bffe8e0652ec867bd16b46467c62daa8ac55b80068130c64e31ae865a93097\n",
      "  Stored in directory: c:\\users\\asad5\\appdata\\local\\pip\\cache\\wheels\\ae\\25\\47\\4d68431a7ec1b6c4b5233365934b74c1d4e665bf5f968d363a\n",
      "Successfully built yfinance multitasking\n",
      "Installing collected packages: multitasking, lxml, yfinance\n",
      "Successfully installed lxml-4.6.0 multitasking-0.0.9 yfinance-0.1.55\n",
      "Collecting pandas-ta\n",
      "  Downloading pandas_ta-0.2.23b.tar.gz (75 kB)\n",
      "Requirement already satisfied: pandas in c:\\users\\asad5\\appdata\\local\\programs\\python\\python37\\lib\\site-packages (from pandas-ta) (1.1.2)\n",
      "Requirement already satisfied: python-dateutil>=2.7.3 in c:\\users\\asad5\\appdata\\local\\programs\\python\\python37\\lib\\site-packages (from pandas->pandas-ta) (2.8.1)\n",
      "Requirement already satisfied: numpy>=1.15.4 in c:\\users\\asad5\\appdata\\local\\programs\\python\\python37\\lib\\site-packages (from pandas->pandas-ta) (1.17.3)\n",
      "Requirement already satisfied: pytz>=2017.2 in c:\\users\\asad5\\appdata\\local\\programs\\python\\python37\\lib\\site-packages (from pandas->pandas-ta) (2020.1)\n",
      "Requirement already satisfied: six>=1.5 in c:\\users\\asad5\\appdata\\roaming\\python\\python37\\site-packages (from python-dateutil>=2.7.3->pandas->pandas-ta) (1.13.0)\n",
      "Building wheels for collected packages: pandas-ta\n",
      "  Building wheel for pandas-ta (setup.py): started\n",
      "  Building wheel for pandas-ta (setup.py): finished with status 'done'\n",
      "  Created wheel for pandas-ta: filename=pandas_ta-0.2.23b0-py3-none-any.whl size=156159 sha256=84fcfe07b4d94e4bb65e7755cd2d09d6c960ed4d927266d29c12b66e378f5c5e\n",
      "  Stored in directory: c:\\users\\asad5\\appdata\\local\\pip\\cache\\wheels\\e6\\db\\67\\5b2133f0f86b5ba3f81d8de9a6995c54dd977c847b9e8d7687\n",
      "Successfully built pandas-ta\n",
      "Installing collected packages: pandas-ta\n",
      "Successfully installed pandas-ta-0.2.23b0\n"
     ]
    }
   ],
   "source": [
    "# %tensorflow_version 1.x   # Only in google colab notebooks\n",
    "!pip install stable-baselines[mpi]==2.10.0\n",
    "!pip install yfinance\n",
    "!pip install pandas-ta"
   ]
  },
  {
   "cell_type": "code",
   "execution_count": 5,
   "metadata": {
    "colab": {
     "base_uri": "https://localhost:8080/",
     "height": 162
    },
    "id": "2La5Q1D5x0sD",
    "outputId": "81632161-99c5-42b8-8adc-0e57c892e449"
   },
   "outputs": [
    {
     "ename": "ModuleNotFoundError",
     "evalue": "No module named 'tensorflow.contrib'",
     "output_type": "error",
     "traceback": [
      "\u001b[1;31m---------------------------------------------------------------------------\u001b[0m",
      "\u001b[1;31mModuleNotFoundError\u001b[0m                       Traceback (most recent call last)",
      "\u001b[1;32m<ipython-input-5-ec74368076b9>\u001b[0m in \u001b[0;36m<module>\u001b[1;34m\u001b[0m\n\u001b[1;32m----> 1\u001b[1;33m \u001b[1;32mfrom\u001b[0m \u001b[0mstable_baselines\u001b[0m\u001b[1;33m.\u001b[0m\u001b[0mcommon\u001b[0m\u001b[1;33m.\u001b[0m\u001b[0menv_checker\u001b[0m \u001b[1;32mimport\u001b[0m \u001b[0mcheck_env\u001b[0m\u001b[1;33m\u001b[0m\u001b[1;33m\u001b[0m\u001b[0m\n\u001b[0m",
      "\u001b[1;32mc:\\users\\asad5\\appdata\\local\\programs\\python\\python37\\lib\\site-packages\\stable_baselines\\__init__.py\u001b[0m in \u001b[0;36m<module>\u001b[1;34m\u001b[0m\n\u001b[0;32m      2\u001b[0m \u001b[1;32mfrom\u001b[0m \u001b[0mstable_baselines\u001b[0m\u001b[1;33m.\u001b[0m\u001b[0macer\u001b[0m \u001b[1;32mimport\u001b[0m \u001b[0mACER\u001b[0m\u001b[1;33m\u001b[0m\u001b[1;33m\u001b[0m\u001b[0m\n\u001b[0;32m      3\u001b[0m \u001b[1;32mfrom\u001b[0m \u001b[0mstable_baselines\u001b[0m\u001b[1;33m.\u001b[0m\u001b[0macktr\u001b[0m \u001b[1;32mimport\u001b[0m \u001b[0mACKTR\u001b[0m\u001b[1;33m\u001b[0m\u001b[1;33m\u001b[0m\u001b[0m\n\u001b[1;32m----> 4\u001b[1;33m \u001b[1;32mfrom\u001b[0m \u001b[0mstable_baselines\u001b[0m\u001b[1;33m.\u001b[0m\u001b[0mdeepq\u001b[0m \u001b[1;32mimport\u001b[0m \u001b[0mDQN\u001b[0m\u001b[1;33m\u001b[0m\u001b[1;33m\u001b[0m\u001b[0m\n\u001b[0m\u001b[0;32m      5\u001b[0m \u001b[1;32mfrom\u001b[0m \u001b[0mstable_baselines\u001b[0m\u001b[1;33m.\u001b[0m\u001b[0mher\u001b[0m \u001b[1;32mimport\u001b[0m \u001b[0mHER\u001b[0m\u001b[1;33m\u001b[0m\u001b[1;33m\u001b[0m\u001b[0m\n\u001b[0;32m      6\u001b[0m \u001b[1;32mfrom\u001b[0m \u001b[0mstable_baselines\u001b[0m\u001b[1;33m.\u001b[0m\u001b[0mppo2\u001b[0m \u001b[1;32mimport\u001b[0m \u001b[0mPPO2\u001b[0m\u001b[1;33m\u001b[0m\u001b[1;33m\u001b[0m\u001b[0m\n",
      "\u001b[1;32mc:\\users\\asad5\\appdata\\local\\programs\\python\\python37\\lib\\site-packages\\stable_baselines\\deepq\\__init__.py\u001b[0m in \u001b[0;36m<module>\u001b[1;34m\u001b[0m\n\u001b[1;32m----> 1\u001b[1;33m \u001b[1;32mfrom\u001b[0m \u001b[0mstable_baselines\u001b[0m\u001b[1;33m.\u001b[0m\u001b[0mdeepq\u001b[0m\u001b[1;33m.\u001b[0m\u001b[0mpolicies\u001b[0m \u001b[1;32mimport\u001b[0m \u001b[0mMlpPolicy\u001b[0m\u001b[1;33m,\u001b[0m \u001b[0mCnnPolicy\u001b[0m\u001b[1;33m,\u001b[0m \u001b[0mLnMlpPolicy\u001b[0m\u001b[1;33m,\u001b[0m \u001b[0mLnCnnPolicy\u001b[0m\u001b[1;33m\u001b[0m\u001b[1;33m\u001b[0m\u001b[0m\n\u001b[0m\u001b[0;32m      2\u001b[0m \u001b[1;32mfrom\u001b[0m \u001b[0mstable_baselines\u001b[0m\u001b[1;33m.\u001b[0m\u001b[0mdeepq\u001b[0m\u001b[1;33m.\u001b[0m\u001b[0mbuild_graph\u001b[0m \u001b[1;32mimport\u001b[0m \u001b[0mbuild_act\u001b[0m\u001b[1;33m,\u001b[0m \u001b[0mbuild_train\u001b[0m  \u001b[1;31m# noqa\u001b[0m\u001b[1;33m\u001b[0m\u001b[1;33m\u001b[0m\u001b[0m\n\u001b[0;32m      3\u001b[0m \u001b[1;32mfrom\u001b[0m \u001b[0mstable_baselines\u001b[0m\u001b[1;33m.\u001b[0m\u001b[0mdeepq\u001b[0m\u001b[1;33m.\u001b[0m\u001b[0mdqn\u001b[0m \u001b[1;32mimport\u001b[0m \u001b[0mDQN\u001b[0m\u001b[1;33m\u001b[0m\u001b[1;33m\u001b[0m\u001b[0m\n\u001b[0;32m      4\u001b[0m \u001b[1;32mfrom\u001b[0m \u001b[0mstable_baselines\u001b[0m\u001b[1;33m.\u001b[0m\u001b[0mcommon\u001b[0m\u001b[1;33m.\u001b[0m\u001b[0mbuffers\u001b[0m \u001b[1;32mimport\u001b[0m \u001b[0mReplayBuffer\u001b[0m\u001b[1;33m,\u001b[0m \u001b[0mPrioritizedReplayBuffer\u001b[0m  \u001b[1;31m# noqa\u001b[0m\u001b[1;33m\u001b[0m\u001b[1;33m\u001b[0m\u001b[0m\n\u001b[0;32m      5\u001b[0m \u001b[1;33m\u001b[0m\u001b[0m\n",
      "\u001b[1;32mc:\\users\\asad5\\appdata\\local\\programs\\python\\python37\\lib\\site-packages\\stable_baselines\\deepq\\policies.py\u001b[0m in \u001b[0;36m<module>\u001b[1;34m\u001b[0m\n\u001b[0;32m      1\u001b[0m \u001b[1;32mimport\u001b[0m \u001b[0mtensorflow\u001b[0m \u001b[1;32mas\u001b[0m \u001b[0mtf\u001b[0m\u001b[1;33m\u001b[0m\u001b[1;33m\u001b[0m\u001b[0m\n\u001b[1;32m----> 2\u001b[1;33m \u001b[1;32mimport\u001b[0m \u001b[0mtensorflow\u001b[0m\u001b[1;33m.\u001b[0m\u001b[0mcontrib\u001b[0m\u001b[1;33m.\u001b[0m\u001b[0mlayers\u001b[0m \u001b[1;32mas\u001b[0m \u001b[0mtf_layers\u001b[0m\u001b[1;33m\u001b[0m\u001b[1;33m\u001b[0m\u001b[0m\n\u001b[0m\u001b[0;32m      3\u001b[0m \u001b[1;32mimport\u001b[0m \u001b[0mnumpy\u001b[0m \u001b[1;32mas\u001b[0m \u001b[0mnp\u001b[0m\u001b[1;33m\u001b[0m\u001b[1;33m\u001b[0m\u001b[0m\n\u001b[0;32m      4\u001b[0m \u001b[1;32mfrom\u001b[0m \u001b[0mgym\u001b[0m\u001b[1;33m.\u001b[0m\u001b[0mspaces\u001b[0m \u001b[1;32mimport\u001b[0m \u001b[0mDiscrete\u001b[0m\u001b[1;33m\u001b[0m\u001b[1;33m\u001b[0m\u001b[0m\n\u001b[0;32m      5\u001b[0m \u001b[1;33m\u001b[0m\u001b[0m\n",
      "\u001b[1;31mModuleNotFoundError\u001b[0m: No module named 'tensorflow.contrib'"
     ]
    }
   ],
   "source": [
    "from stable_baselines.common.env_checker import check_env"
   ]
  },
  {
   "cell_type": "code",
   "execution_count": null,
   "metadata": {
    "colab": {
     "base_uri": "https://localhost:8080/",
     "height": 510
    },
    "id": "UEXOOvvCzWgf",
    "outputId": "1af70da1-8a11-4158-e26e-d4f8e15af498"
   },
   "outputs": [],
   "source": [
    "import pandas_ta as pdt\n",
    "import yfinance as yf\n",
    "from datetime import datetime, timedelta\n",
    "\n",
    "# GET STOCK DATA\n",
    "stonk = yf.Ticker('CANF')\n",
    "df = stonk.history(start=datetime.now() - timedelta(days=2000), end=datetime.now())\n",
    "df.ta.strategy(\"all\")\n",
    "\n",
    "# Clean data\n",
    "percent_missing = df.isnull().sum() * 100 / len(df)\n",
    "missing_value_df = pd.DataFrame({'column_name': df.columns,\n",
    "                                 'percent_missing': percent_missing})\n",
    "for row in missing_value_df.iterrows():\n",
    "  if row[1].percent_missing > 0.1:\n",
    "    df.drop(columns=[row[0]], inplace=True)\n",
    "df = df.dropna()\n",
    "df"
   ]
  },
  {
   "cell_type": "markdown",
   "metadata": {
    "id": "jEBkeuIiRIOM"
   },
   "source": [
    "## Env Validation and Testing"
   ]
  },
  {
   "cell_type": "code",
   "execution_count": null,
   "metadata": {
    "id": "exUuAKQex1iG"
   },
   "outputs": [],
   "source": [
    "env = DeepStockTraderEnv(df)\n",
    "# If the environment don't follow the interface, an error will be thrown\n",
    "check_env(env, warn=True)"
   ]
  },
  {
   "cell_type": "code",
   "execution_count": null,
   "metadata": {
    "colab": {
     "base_uri": "https://localhost:8080/"
    },
    "id": "rXjAo6kYCidU",
    "outputId": "40dcc079-75f1-4bb7-bb1e-068ae755139b"
   },
   "outputs": [],
   "source": [
    "import random\n",
    "BUY = 0\n",
    "SELL = 1\n",
    "HOLD = 2\n",
    "\n",
    "obs = env.reset()\n",
    "env.render()\n",
    "\n",
    "print(env.observation_space)\n",
    "print(env.action_space)\n",
    "print(env.action_space.sample())\n",
    "\n",
    "# Hardcoded best agent: always go left!\n",
    "n_steps = 20\n",
    "for step in range(n_steps):\n",
    "  print(\"Step {}\".format(step + 1))\n",
    "  obs, reward, done, info = env.step(random.randint(0, 2))\n",
    "  # print('obs=', obs, 'reward=', reward, 'done=', done)\n",
    "  env.render()\n",
    "  if done:\n",
    "    print(\"Goal reached!\", \"reward=\", reward)\n",
    "    break\n",
    "\n",
    "env.reset();"
   ]
  },
  {
   "cell_type": "markdown",
   "metadata": {
    "id": "tlWOn0vsRNoV"
   },
   "source": [
    "## Sample Training Loop\n",
    "\n",
    "*See trainer.py for a pytorch example built by Seth Hamilton*"
   ]
  },
  {
   "cell_type": "code",
   "execution_count": null,
   "metadata": {
    "id": "FPF3Vp7zMcGY"
   },
   "outputs": [],
   "source": [
    "from stable_baselines import DQN, PPO2, A2C, ACKTR\n",
    "from stable_baselines.common.cmd_util import make_vec_env\n",
    "\n",
    "# Instantiate the env\n",
    "env = DeepStockTraderEnv(df)\n",
    "# wrap it\n",
    "env = make_vec_env(lambda: env, n_envs=1)"
   ]
  },
  {
   "cell_type": "code",
   "execution_count": null,
   "metadata": {
    "colab": {
     "base_uri": "https://localhost:8080/",
     "height": 1000
    },
    "id": "cs7c67bqQoip",
    "outputId": "75f80276-ab6b-4bc3-efc3-2dd31ed1b7fc"
   },
   "outputs": [],
   "source": [
    "# Train the agent\n",
    "model = DQN('MlpPolicy', env, verbose=1).learn(10000)"
   ]
  },
  {
   "cell_type": "code",
   "execution_count": null,
   "metadata": {
    "colab": {
     "base_uri": "https://localhost:8080/",
     "height": 371
    },
    "id": "OQj1y20MTqT6",
    "outputId": "9a4779e4-a3cd-4cb5-dd5c-c21e9b5faee8"
   },
   "outputs": [],
   "source": [
    "# Test the trained agent\n",
    "obs = env.reset()\n",
    "timestep = 1\n",
    "while True:\n",
    "  action, _ = model.predict(obs, deterministic=True)\n",
    "  obs, reward, done, info = env.step(action)\n",
    "\n",
    "  # if env.total(timestep) > 10000:\n",
    "  #   pdb.set_trace()\n",
    "  env.render(mode='console')\n",
    "  if done:\n",
    "    print(\"Goal reached!\", \"reward=\", reward)\n",
    "    break\n",
    "\n",
    "  timestep += 1\n",
    "env.render(mode='console')"
   ]
  },
  {
   "cell_type": "code",
   "execution_count": null,
   "metadata": {
    "colab": {
     "base_uri": "https://localhost:8080/",
     "height": 35
    },
    "id": "8jteD_gijlnb",
    "outputId": "7d447f0d-2463-4238-8153-ba982a1e4241"
   },
   "outputs": [],
   "source": [
    "big_gain = np.exp(np.log(1908.20/1000)/(2000/365))\n",
    "big_gain"
   ]
  }
 ],
 "metadata": {
  "colab": {
   "collapsed_sections": [
    "2C72oyw5QvFd",
    "R_woJwp4Q_XU",
    "jEBkeuIiRIOM"
   ],
   "name": "deep_stock_trader_custom_environment",
   "provenance": []
  },
  "kernelspec": {
   "display_name": "Python 3",
   "language": "python",
   "name": "python3"
  },
  "language_info": {
   "codemirror_mode": {
    "name": "ipython",
    "version": 3
   },
   "file_extension": ".py",
   "mimetype": "text/x-python",
   "name": "python",
   "nbconvert_exporter": "python",
   "pygments_lexer": "ipython3",
   "version": "3.7.4"
  }
 },
 "nbformat": 4,
 "nbformat_minor": 1
}
